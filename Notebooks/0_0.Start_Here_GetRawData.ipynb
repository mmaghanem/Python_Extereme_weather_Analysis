{
 "cells": [
  {
   "cell_type": "code",
   "execution_count": 10,
   "metadata": {},
   "outputs": [
    {
     "name": "stderr",
     "output_type": "stream",
     "text": [
      "C:\\Users\\revans2\\AppData\\Local\\Temp\\1\\ipykernel_22768\\414571462.py:23: DtypeWarning: Columns (26,48) have mixed types. Specify dtype option on import or set low_memory=False.\n",
      "  df = pd.read_csv(file, compression='gzip', header=0, sep=',', quotechar='\"')\n",
      "C:\\Users\\revans2\\AppData\\Local\\Temp\\1\\ipykernel_22768\\414571462.py:23: DtypeWarning: Columns (26,28) have mixed types. Specify dtype option on import or set low_memory=False.\n",
      "  df = pd.read_csv(file, compression='gzip', header=0, sep=',', quotechar='\"')\n",
      "C:\\Users\\revans2\\AppData\\Local\\Temp\\1\\ipykernel_22768\\414571462.py:23: DtypeWarning: Columns (28) have mixed types. Specify dtype option on import or set low_memory=False.\n",
      "  df = pd.read_csv(file, compression='gzip', header=0, sep=',', quotechar='\"')\n",
      "C:\\Users\\revans2\\AppData\\Local\\Temp\\1\\ipykernel_22768\\414571462.py:23: DtypeWarning: Columns (28) have mixed types. Specify dtype option on import or set low_memory=False.\n",
      "  df = pd.read_csv(file, compression='gzip', header=0, sep=',', quotechar='\"')\n",
      "C:\\Users\\revans2\\AppData\\Local\\Temp\\1\\ipykernel_22768\\414571462.py:23: DtypeWarning: Columns (29,34,35,37) have mixed types. Specify dtype option on import or set low_memory=False.\n",
      "  df = pd.read_csv(file, compression='gzip', header=0, sep=',', quotechar='\"')\n"
     ]
    }
   ],
   "source": [
    "#code block to get raw data from NOAA http\n",
    "#csvs are individualized by year\n",
    "#to get all the data this could take about 5 minutes to run..\n",
    "\n",
    "import pandas as pd\n",
    "from bs4 import BeautifulSoup\n",
    "import requests\n",
    "\n",
    "url = 'https://www.ncei.noaa.gov/pub/data/swdi/stormevents/csvfiles/'\n",
    "ext = 'gz'\n",
    "\n",
    "def listFD(url, ext=''):\n",
    "    page = requests.get(url).text\n",
    "    soup = BeautifulSoup(page, 'html.parser')\n",
    "    return [url + '/' + node.get('href') for node in soup.find_all('a') if node.get('href').endswith(ext)]\n",
    "\n",
    "det_frames = []\n",
    "fat_frames = []\n",
    "loc_frames = []\n",
    "\n",
    "for file in listFD(url, ext):\n",
    "    if file.find('details') > 0:\n",
    "        df = pd.read_csv(file, compression='gzip', header=0, sep=',', quotechar='\"')\n",
    "        det_frames.append(df)\n",
    "    #if file.find('location') > 0:\n",
    "        #df = pd.read_csv(file, compression='gzip', header=0, sep=',', quotechar='\"')\n",
    "        #loc_frames.append(df)\n",
    "    if file.find('fatalities') > 0:\n",
    "        df = pd.read_csv(file, compression='gzip', header=0, sep=',', quotechar='\"')\n",
    "        fat_frames.append(df)\n",
    "    \n",
    "    \n",
    "\n",
    "det_df = pd.concat(det_frames)\n",
    "#stormdetails for all years is about 1.3GB as of 2022\n",
    "det_df.to_csv('data/storm_details.csv')\n",
    "\n",
    "fat_df = pd.concat(fat_frames)\n",
    "#stormfatalities is about 1.MB as of 2022\n",
    "fat_df.to_csv('data/storm_fatalities.csv')\n",
    "\n",
    "#storm_locations data not used. Event_details has location data\n",
    "#loc_df = pd.concat(loc_frames)\n",
    "#storm_locations (not used by us) is about 1.6GB total as of 2022\n",
    "#loc_df.to_csv('data/storm_locations.csv')"
   ]
  }
 ],
 "metadata": {
  "kernelspec": {
   "display_name": "Python 3.9.13 64-bit",
   "language": "python",
   "name": "python3"
  },
  "language_info": {
   "codemirror_mode": {
    "name": "ipython",
    "version": 3
   },
   "file_extension": ".py",
   "mimetype": "text/x-python",
   "name": "python",
   "nbconvert_exporter": "python",
   "pygments_lexer": "ipython3",
   "version": "3.9.13"
  },
  "orig_nbformat": 4,
  "vscode": {
   "interpreter": {
    "hash": "32ec0e9ad5b47f4b1de410a0d15d82eade97f5d5e89966311a770e4594e66108"
   }
  }
 },
 "nbformat": 4,
 "nbformat_minor": 2
}
